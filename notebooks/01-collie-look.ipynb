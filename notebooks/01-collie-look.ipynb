{
 "cells": [
  {
   "cell_type": "code",
   "execution_count": 1,
   "metadata": {
    "collapsed": true
   },
   "outputs": [],
   "source": [
    "from pathlib import Path\n",
    "\n",
    "import matplotlib.pyplot as plt\n",
    "import seaborn as sns\n",
    "import pandas as pd\n",
    "\n",
    "sns.set_style(\"white\")"
   ]
  },
  {
   "cell_type": "code",
   "execution_count": 2,
   "outputs": [
    {
     "name": "stdout",
     "output_type": "stream",
     "text": [
      "length: 782\n"
     ]
    },
    {
     "data": {
      "text/plain": "  article_name                                    article_content\n0    Article 1  (1) Private rights must be congruent with the ...\n1    Article 2  This Code must be construed so as to honor the...\n2    Article 3  (1) The enjoyment of private rights commences ...\n3  Article 3-2  If the person making a juridical act did not h...\n4    Article 4            The age of majority is 20 years of age.",
      "text/html": "<div>\n<style scoped>\n    .dataframe tbody tr th:only-of-type {\n        vertical-align: middle;\n    }\n\n    .dataframe tbody tr th {\n        vertical-align: top;\n    }\n\n    .dataframe thead th {\n        text-align: right;\n    }\n</style>\n<table border=\"1\" class=\"dataframe\">\n  <thead>\n    <tr style=\"text-align: right;\">\n      <th></th>\n      <th>article_name</th>\n      <th>article_content</th>\n    </tr>\n  </thead>\n  <tbody>\n    <tr>\n      <th>0</th>\n      <td>Article 1</td>\n      <td>(1) Private rights must be congruent with the ...</td>\n    </tr>\n    <tr>\n      <th>1</th>\n      <td>Article 2</td>\n      <td>This Code must be construed so as to honor the...</td>\n    </tr>\n    <tr>\n      <th>2</th>\n      <td>Article 3</td>\n      <td>(1) The enjoyment of private rights commences ...</td>\n    </tr>\n    <tr>\n      <th>3</th>\n      <td>Article 3-2</td>\n      <td>If the person making a juridical act did not h...</td>\n    </tr>\n    <tr>\n      <th>4</th>\n      <td>Article 4</td>\n      <td>The age of majority is 20 years of age.</td>\n    </tr>\n  </tbody>\n</table>\n</div>"
     },
     "execution_count": 2,
     "metadata": {},
     "output_type": "execute_result"
    }
   ],
   "source": [
    "collie_articles = pd.read_json(\"../data/preprocessed/COLLIE/articles.json\")\n",
    "print(f\"length: {collie_articles.__len__()}\")\n",
    "collie_articles.head()"
   ],
   "metadata": {
    "collapsed": false
   }
  },
  {
   "cell_type": "code",
   "execution_count": 3,
   "outputs": [
    {
     "name": "stdout",
     "output_type": "stream",
     "text": [
      "length: 887\n"
     ]
    },
    {
     "data": {
      "text/plain": "                                               query  \\\n0  Acceptance made by a minor that received an of...   \n1  If a minor, after getting permission for carry...   \n2  The purchase of daily household items may not ...   \n3  If a person under curatorship performs, withou...   \n4  The person in question may not request a  comm...   \n\n                                 articles  \n0                             [Article 5]  \n1                             [Article 6]  \n2                             [Article 9]  \n3  [Article 13, Article 120, Article 122]  \n4                 [Article 7, Article 11]  ",
      "text/html": "<div>\n<style scoped>\n    .dataframe tbody tr th:only-of-type {\n        vertical-align: middle;\n    }\n\n    .dataframe tbody tr th {\n        vertical-align: top;\n    }\n\n    .dataframe thead th {\n        text-align: right;\n    }\n</style>\n<table border=\"1\" class=\"dataframe\">\n  <thead>\n    <tr style=\"text-align: right;\">\n      <th></th>\n      <th>query</th>\n      <th>articles</th>\n    </tr>\n  </thead>\n  <tbody>\n    <tr>\n      <th>0</th>\n      <td>Acceptance made by a minor that received an of...</td>\n      <td>[Article 5]</td>\n    </tr>\n    <tr>\n      <th>1</th>\n      <td>If a minor, after getting permission for carry...</td>\n      <td>[Article 6]</td>\n    </tr>\n    <tr>\n      <th>2</th>\n      <td>The purchase of daily household items may not ...</td>\n      <td>[Article 9]</td>\n    </tr>\n    <tr>\n      <th>3</th>\n      <td>If a person under curatorship performs, withou...</td>\n      <td>[Article 13, Article 120, Article 122]</td>\n    </tr>\n    <tr>\n      <th>4</th>\n      <td>The person in question may not request a  comm...</td>\n      <td>[Article 7, Article 11]</td>\n    </tr>\n  </tbody>\n</table>\n</div>"
     },
     "execution_count": 3,
     "metadata": {},
     "output_type": "execute_result"
    }
   ],
   "source": [
    "collie_queries = pd.read_json(\"../data/preprocessed/COLLIE/query_article.json\")\n",
    "print(f\"length: {collie_queries.__len__()}\")\n",
    "collie_queries.head()"
   ],
   "metadata": {
    "collapsed": false
   }
  },
  {
   "cell_type": "code",
   "execution_count": 4,
   "outputs": [
    {
     "data": {
      "text/plain": "<Figure size 1296x432 with 3 Axes>",
      "image/png": "[encoded data removed]"
     },
     "metadata": {},
     "output_type": "display_data"
    }
   ],
   "source": [
    "articles_lengths = collie_articles.article_content.map(lambda text: len(text))\n",
    "query_lengths = collie_queries['query'].map(lambda text: len(text))\n",
    "num_answers = collie_queries.articles.map(lambda lst: len(lst))\n",
    "\n",
    "f, ax = plt.subplots(ncols=3, figsize=(18, 6))\n",
    "sns.histplot(articles_lengths, ax=ax[0])\n",
    "ax[0].set(xlabel=\"Length of law texts\")\n",
    "ax[0].grid(False)\n",
    "sns.histplot(query_lengths, ax=ax[1])\n",
    "ax[1].set(xlabel=\"Length of query texts\",)\n",
    "ax[1].grid(False)\n",
    "sns.histplot(num_answers, ax=ax[2])\n",
    "ax[2].set(xlabel=\"Number of relevant documents\")\n",
    "ax[2].grid(False)\n",
    "plt.savefig('../figures/collie_graphs.png', bbox_inches='tight')\n",
    "plt.show()"
   ],
   "metadata": {
    "collapsed": false
   }
  },
  {
   "cell_type": "code",
   "execution_count": 5,
   "outputs": [
    {
     "data": {
      "text/plain": "                                               query  \\\n0  Acceptance made by a minor that received an of...   \n1  If a minor, after getting permission for carry...   \n2  The purchase of daily household items may not ...   \n3  If a person under curatorship performs, withou...   \n4  The person in question may not request a  comm...   \n\n                                 articles  \n0                             [Article 5]  \n1                             [Article 6]  \n2                             [Article 9]  \n3  [Article 13, Article 120, Article 122]  \n4                 [Article 7, Article 11]  ",
      "text/html": "<div>\n<style scoped>\n    .dataframe tbody tr th:only-of-type {\n        vertical-align: middle;\n    }\n\n    .dataframe tbody tr th {\n        vertical-align: top;\n    }\n\n    .dataframe thead th {\n        text-align: right;\n    }\n</style>\n<table border=\"1\" class=\"dataframe\">\n  <thead>\n    <tr style=\"text-align: right;\">\n      <th></th>\n      <th>query</th>\n      <th>articles</th>\n    </tr>\n  </thead>\n  <tbody>\n    <tr>\n      <th>0</th>\n      <td>Acceptance made by a minor that received an of...</td>\n      <td>[Article 5]</td>\n    </tr>\n    <tr>\n      <th>1</th>\n      <td>If a minor, after getting permission for carry...</td>\n      <td>[Article 6]</td>\n    </tr>\n    <tr>\n      <th>2</th>\n      <td>The purchase of daily household items may not ...</td>\n      <td>[Article 9]</td>\n    </tr>\n    <tr>\n      <th>3</th>\n      <td>If a person under curatorship performs, withou...</td>\n      <td>[Article 13, Article 120, Article 122]</td>\n    </tr>\n    <tr>\n      <th>4</th>\n      <td>The person in question may not request a  comm...</td>\n      <td>[Article 7, Article 11]</td>\n    </tr>\n  </tbody>\n</table>\n</div>"
     },
     "execution_count": 5,
     "metadata": {},
     "output_type": "execute_result"
    }
   ],
   "source": [
    "collie_queries.head(5)"
   ],
   "metadata": {
    "collapsed": false
   }
  },
  {
   "cell_type": "code",
   "execution_count": 6,
   "outputs": [
    {
     "data": {
      "text/plain": "count     782.000000\nmean      423.768542\nstd       361.880158\nmin         7.000000\n25%       189.250000\n50%       321.000000\n75%       516.750000\nmax      2591.000000\nName: article_content, dtype: float64"
     },
     "execution_count": 6,
     "metadata": {},
     "output_type": "execute_result"
    }
   ],
   "source": [
    "articles_lengths.describe()"
   ],
   "metadata": {
    "collapsed": false
   }
  },
  {
   "cell_type": "code",
   "execution_count": 7,
   "outputs": [
    {
     "data": {
      "text/plain": "count    887.000000\nmean     225.021421\nstd      102.805985\nmin       30.000000\n25%      153.000000\n50%      214.000000\n75%      277.000000\nmax      847.000000\nName: query, dtype: float64"
     },
     "execution_count": 7,
     "metadata": {},
     "output_type": "execute_result"
    }
   ],
   "source": [
    "query_lengths.describe()"
   ],
   "metadata": {
    "collapsed": false
   }
  },
  {
   "cell_type": "code",
   "execution_count": 8,
   "outputs": [
    {
     "data": {
      "text/plain": "count    887.000000\nmean       1.281849\nstd        0.619052\nmin        0.000000\n25%        1.000000\n50%        1.000000\n75%        1.000000\nmax        6.000000\nName: articles, dtype: float64"
     },
     "execution_count": 8,
     "metadata": {},
     "output_type": "execute_result"
    }
   ],
   "source": [
    "num_answers.describe()"
   ],
   "metadata": {
    "collapsed": false
   }
  },
  {
   "cell_type": "code",
   "execution_count": null,
   "outputs": [],
   "source": [
    "|f"
   ],
   "metadata": {
    "collapsed": false
   }
  }
 ],
 "metadata": {
  "kernelspec": {
   "display_name": "Python 3",
   "language": "python",
   "name": "python3"
  },
  "language_info": {
   "codemirror_mode": {
    "name": "ipython",
    "version": 2
   },
   "file_extension": ".py",
   "mimetype": "text/x-python",
   "name": "python",
   "nbconvert_exporter": "python",
   "pygments_lexer": "ipython2",
   "version": "2.7.6"
  }
 },
 "nbformat": 4,
 "nbformat_minor": 0
}
